{
 "cells": [
  {
   "cell_type": "markdown",
   "metadata": {
    "id": "0gqF2gFG1WB8"
   },
   "source": [
    "## 🛑 Complete los siguientes datos\n",
    "\n",
    "- Número de grupo: 10\n",
    "- Nombre y Apellidos de los integrantes: Juan de Cruz y Mauricio Tavara\n",
    "- Entrega: Práctica 4 - Búsquedas y evolutivos\n",
    "- Fecha:\n",
    "- Tiempo dedicado a la entrega:\n",
    "- Principales dudas y dificultades encontrados en el desarrollo:"
   ]
  },
  {
   "cell_type": "markdown",
   "metadata": {
    "id": "CoBp2zaX1WCC"
   },
   "source": [
    "# 🛑 Notas generales"
   ]
  },
  {
   "cell_type": "markdown",
   "metadata": {
    "id": "mGSoJImA1WCG"
   },
   "source": [
    "-\tDos o más prácticas iguales o con un índice de similitud muy alto serán consideradas plagio por todos los implicados.\n",
    "\n",
    "-\tTodas las prácticas son susceptibles de ser revisadas minuciosamente, incluyendo una defensa por parte de sus autores de forma individual. En caso de suspender esta defensa se suspendería la práctica.\n",
    "\n",
    "-\tLa práctica supone la realización de todos los apartados y el cumplimiento de todas las condiciones, si falta alguno, la práctica estará incompleta y no será evaluada.\n",
    "    -\t<font color='red'>Las prácticas que no cumplan este requisito serán consideradas no válidas y obtendrán una calificación de 0.</font>\n",
    "\n",
    "-\tLas prácticas han de ser funcionales y no dar error en su ejecución.\n",
    "    -\t<font color='red'>Las prácticas que no cumplan este requisito serán consideradas no válidas y obtendrán una calificación de 0.</font>\n",
    "- El uso de código sin referenciar implicará la consideración de la práctica como no apta.\n"
   ]
  },
  {
   "cell_type": "markdown",
   "metadata": {
    "id": "8i2sgrJFTFrN"
   },
   "source": [
    "Este es el cuaderno que utilizarás como **plantilla** para entrega de la práctica correpondiente.\n",
    "\n",
    "Por favor, **lee atentamente** el enunciado. Si tienes alguna duda, utiliza el foro o pregunta en clase (pero no compartas código).\n",
    "\n",
    "Consideraciones generales sobre el código:\n",
    "- Utilizar tantas celdas (de texto o de código) como considere para dar una respuesta legible y clara a las preguntas planteadas.\n",
    "- Mostrar resultados intermedios o finales (tablas, contenido de las variables...) que demuestren que la solución es correcta si fuera necesario.\n",
    "- No olvidéis importar todas las librerías necesarias para la correcta ejecución del código.\n",
    "\n",
    "En las indicaciones, hay instrucciones extra indicadas con el símbolo 🤖. No son requisitos para superar la práctica, sino acciones que puedes realizar para mejorar la calificación.\n",
    "\n",
    "La calificación de los ejercicios se hará con los siguientes criterios:\n",
    "- [9 a 10] puntos: La solución aportada cumple con los requisitos de forma excelente y existen aspectos positivos o extras (🤖) que avalan su excelencia.\n",
    "- [7 a 9] puntos: La solución aportada cumple con los requisitos, pero algunas cuestiones menores son susceptibles de ser mejoradas, tales como: presentación de la solución, justificación de la decisión tomada, eficiencia del código...\n",
    "- [5 a 7] puntos: Las soluciones aportadas no cumplen alguno de los requisitos, como por ejemplo: no se responde a una pregunta, no se aporta la solución a una parte...\n",
    "- [1 a 5] puntos: La solución aportada no cumple con varios requisitos.\n",
    "- [0] puntos: solución no aportada o solución plagiada. **Cabecera no completada, ficheros con nombre erróneo, etc.**\n",
    "\n",
    "La nota de la práctica dependerá de:\n",
    "1.\tCumplimiento de las condiciones.\n",
    "2.\tSofisticación del sistema.\n",
    "3.  Limpieza y eficiencia del código.\n",
    "4.  Comentarios aportados.\n"
   ]
  },
  {
   "cell_type": "markdown",
   "metadata": {
    "id": "brXxbYKp1WCP"
   },
   "source": [
    "# 🛑 Desarrollo a realizar"
   ]
  },
  {
   "cell_type": "markdown",
   "metadata": {
    "id": "_g6q0Mzs1WCS"
   },
   "source": [
    "En esta práctica tendrás que desarrollar un sistema inteligente relacionado con la [temática seleccionado](https://alud.deusto.es/mod/resource/view.php?id=888783) al inicio del curso.\n",
    "\n",
    "El problema a resolver ha de ser solucionable a partir de problema de búsquedas y un problema de algoritmos genéticos.\n",
    "\n",
    "Concretamente:\n",
    "- Busca una problemática que pueda resolverse mediante búsquedas. Por ejemplo: encontrar rutas óptimas de x a y.\n",
    "- Complementa esa problemática mediante una optimización mediante algoritmos genéticos. Por ejemplo: asignar el orden en el que se reparten los paquetes para ahorrar combustible.\n",
    "\n",
    "La selección de la temática y su representación en Python es crucial para resolver con garantías la práctica."
   ]
  },
  {
   "cell_type": "markdown",
   "metadata": {
    "id": "YaWZpt581WCW"
   },
   "source": [
    "**Requisitos**\n",
    "\n",
    "* Validar el problema a resolver con el profesor de forma presencial. **[FECHA DD/MM/AAAA]**\n",
    "* Validar la representación de estados para resolver el problema de búsquedas con el profesor de forma presencial. **[FECHA DD/MM/AAAA]**\n",
    "* Validar la función de aptitud y la representación de estados para resolver el problema de optimización con el profesor de forma presencial. **[FECHA DD/MM/AAAA]**\n",
    "* Tarea de búsqueda:\n",
    "  \n",
    "  1. Utilizar la clase Nodo explicada en clase con los métodos y atributos vistos en los ejercicios prácticos.\n",
    "  2. Utiliza una matriz (sin librerías) de al menos 10x10.\n",
    "  3. Resolver el problema empleando las versiones Graph de BFS, DFS, Greedy y A*.\n",
    "  4. Define [explícitamente](https://dle.rae.es/expl%C3%ADcitamente) un orden de visita en el caso de los algoritmos no informados.\n",
    "  5. En la representación del problema han de existir obstáculos.\n",
    "  6. Por cada iteración del algoritmo muestra <font color='purple'>los nodos expandidos</font>, la frontera.\n",
    "  7. Finalmente la ruta encontrada y el coste.\n",
    "  8. Se han de relizar al menos 3 búsquedas.\n",
    "  9. **<font color=\"red\">No es posible utilizar librerías.</font>**\n",
    "\n",
    "* Tarea de optimización:\n",
    "  1.  Utilizar la clase Individual explicada en clase con los métodos y atributos vistos en los ejercicios prácticos.\n",
    "  2. Justificar [explícitamente](https://dle.rae.es/expl%C3%ADcitamente) las decisiones tomadas respecto a los parámetros del algoritmo:\n",
    "     * Tamaño de la población.\n",
    "     * Estrategia de selección de padres (elitismo, ruleta, torneos,  etc.)\n",
    "     * Método de reproducción (recombinación en un punto, en dos, uniforme,etc.).\n",
    "     * Método de mutación (bit-string, flip-bit, etc.) y ratio\n",
    "     * Estrategia de supervivencia entre poblaciones (estable, generacional, elitismo, etc.)\n",
    "     * Condiciones de parada.\n",
    "  3. Por cada iteración imprime el número de generación y los atributos del individuo con mejor aptitud.\n",
    "  4. La representación ha de tener suficientes soluciones diversas y complejas, de modo que el espacio de búsqueda sea lo suficientemente grande como para permitir que el algoritmo genético explore múltiples combinaciones.\n",
    "  5. La función de aptitud se ha de basar en al menos 3 variables complejas.\n",
    "  6. **<font color=\"red\">No es posible utilizar librerías.</font>**\n",
    "\n",
    "\n",
    "**Consideraciones deseables**\n",
    "* Tarea de búsqueda:\n",
    "  * Desarrolla las versiones Tree de los algoritmos.\n",
    "\n",
    "* Tarea de optimización:\n",
    "  * Crea una alternativa para:\n",
    "    * Tipo de mutación\n",
    "    * Método de reproducción\n",
    "\n",
    "* El sistema ha de tener un grado de sofisticación elevado.\n",
    "\n",
    "\n",
    "**🤖Requisitos extra**\n",
    "\n",
    "* Búsquedas: Utilizar dos versiones de A* y Greedy con 2 heurísticas.\n",
    "* Genéticos: Programa el código de tal manera que se puedan seleccionar distintos parámetros en cuanto:\n",
    "  * Tasa de supervivencia.\n",
    "  * Tasa de mutación.\n",
    "  * Selección de padres.\n",
    "  * Selección de tipo de mutación.\n",
    "  * Selección de método de reproducción.\n",
    "  * Tamaño de la población."
   ]
  },
  {
   "cell_type": "markdown",
   "metadata": {
    "id": "ftSzc0AGV73r"
   },
   "source": [
    "# 🛑 Entrega"
   ]
  },
  {
   "cell_type": "markdown",
   "metadata": {
    "id": "iR6w-d52Vq2P"
   },
   "source": [
    "1.\tDocumento 1: Individualmente, indicar si se ha cumplido la planificación definida en el Entregable CG.2 y dar las razones necesarias para explicar su desvío. Sumad el retraso de 14 días desde la apertura de la Práctica. es decir, que si pensabais entregarlo el 1 de noviembre y lo entregasteis el 15 habéis cumplido.\n",
    "\n",
    "2. Notebook en formato ipynb\n",
    "     - Guardar el cuaderno como archivo ipynb con el nombre de tu grupo seguido de _p4. Por ejemplo, grupo0_p4.ipynb.\n",
    "\n",
    "3.   Notebook en formato pdf\n",
    "     - Imprime el notebook en un archivo PDF con todas las secciones expandidas y todas las celdas ejecutadas, de forma que se pueda ver todo el código y se muestren todos los resultados.\n",
    "     - Guardar el PDF como archivo pdf con el nombre de tu grupo seguido de _p4. Por ejemplo, grupo0_p4.pdf.\n",
    "     - **Para hacerlo, abrirlo con Jupyter, exportarlo a HTML e imprimirlo como PDF.**\n",
    "\n",
    "Adjuntar todos los archivos **sin comprimir** a la entrega correspondiente.\n",
    "\n",
    "<font color='red'>**Las prácticas que no cumplan estos requisitos serán consideradas no válidas y obtendrán una calificación de 0.**</font>"
   ]
  },
  {
   "cell_type": "markdown",
   "metadata": {
    "id": "0ZPsLKNCtkVC"
   },
   "source": [
    "# 1 Búsquedas"
   ]
  },
  {
   "cell_type": "markdown",
   "metadata": {
    "id": "hYGd58W7tm2N"
   },
   "source": [
    "## a) Problema a resolver"
   ]
  },
  {
   "cell_type": "markdown",
   "metadata": {
    "id": "nf4igLd6uFNY"
   },
   "source": [
    "Rutas entre aeropuertos de una flota"
   ]
  },
  {
   "cell_type": "markdown",
   "metadata": {
    "id": "edvA5qGrtuHD"
   },
   "source": [
    "## b) Representación de estados"
   ]
  },
  {
   "cell_type": "markdown",
   "metadata": {
    "id": "aMaY-3W4uG-L"
   },
   "source": []
  },
  {
   "cell_type": "markdown",
   "metadata": {
    "id": "29Ov-lJbt1nT"
   },
   "source": [
    "## c) Código"
   ]
  },
  {
   "cell_type": "code",
   "execution_count": null,
   "metadata": {
    "id": "8RLKVKyGuBBx"
   },
   "outputs": [],
   "source": [
    "#TODO\n",
    "vuelos = {\n",
    "    'Vitoria-Gasteiz': { 'pos':(0,0), 'conexiones':['Bilbao', 'San Sebastian'], 'precio': }\n",
    "}"
   ]
  },
  {
   "cell_type": "code",
   "execution_count": 6,
   "metadata": {},
   "outputs": [
    {
     "data": {
      "image/png": "[encoded data removed]",
      "text/plain": [
       "<Figure size 1200x1000 with 1 Axes>"
      ]
     },
     "metadata": {},
     "output_type": "display_data"
    }
   ],
   "source": [
    "import matplotlib.pyplot as plt\n",
    "\n",
    "# Definir las ciudades y sus coordenadas aproximadas\n",
    "ciudades = {\n",
    "    \"Londres\": (51.5074, -0.1278),\n",
    "    \"París\": (48.8566, 2.3522),\n",
    "    \"Berlín\": (52.52, 13.4050),\n",
    "    \"Roma\": (41.9028, 12.4964),\n",
    "    \"Madrid\": (40.4168, -3.7038),\n",
    "    \"Ámsterdam\": (52.3676, 4.9041),\n",
    "    \"Bruselas\": (50.8503, 4.3517),\n",
    "    \"Viena\": (48.2082, 16.3738),\n",
    "    \"Lisboa\": (38.7169, -9.1395),\n",
    "    \"Praga\": (50.0755, 14.4378)\n",
    "}\n",
    "\n",
    "# Definir las rutas (conexiones entre ciudades) con distancias aproximadas\n",
    "rutas = [\n",
    "    (\"Londres\", \"París\", 344), (\"Londres\", \"Ámsterdam\", 356),\n",
    "    (\"París\", \"Berlín\", 878), (\"París\", \"Roma\", 1100),\n",
    "    (\"Berlín\", \"Roma\", 1188), (\"Madrid\", \"Ámsterdam\", 1234),\n",
    "    (\"Bruselas\", \"Ámsterdam\", 173), (\"Viena\", \"Roma\", 1312),\n",
    "    (\"Lisboa\", \"Madrid\", 625), (\"Praga\", \"Viena\", 253)\n",
    "]\n",
    "\n",
    "# Crear el gráfico de ciudades\n",
    "plt.figure(figsize=(12, 10))\n",
    "\n",
    "# Dibujar las ciudades\n",
    "for ciudad, (lat, lon) in ciudades.items():\n",
    "    plt.scatter(lon, lat, color='red', s=100, zorder=5)\n",
    "    plt.text(lon + 0.1, lat + 0.1, ciudad, fontsize=9, ha='left', va='bottom')\n",
    "\n",
    "# Dibujar las rutas (conexiones entre las ciudades)\n",
    "for ruta in rutas:\n",
    "    ciudad1, ciudad2, _ = ruta\n",
    "    lat1, lon1 = ciudades[ciudad1]\n",
    "    lat2, lon2 = ciudades[ciudad2]\n",
    "    plt.plot([lon1, lon2], [lat1, lat2], color='blue', alpha=0.6)\n",
    "\n",
    "# Configuración de la visualización\n",
    "plt.title(\"Conexiones entre Capitales Europeas\")\n",
    "plt.xlabel(\"Longitud\")\n",
    "plt.ylabel(\"Latitud\")\n",
    "plt.grid(True)\n",
    "plt.axis(\"equal\")  # Mantener la proporción entre los ejes\n",
    "plt.show()\n"
   ]
  },
  {
   "cell_type": "markdown",
   "metadata": {
    "id": "jDPD65hYt4K8"
   },
   "source": [
    "## d) Caso de uso"
   ]
  },
  {
   "cell_type": "code",
   "execution_count": null,
   "metadata": {
    "id": "JShmR_4puEUR"
   },
   "outputs": [],
   "source": [
    "#TODO"
   ]
  },
  {
   "cell_type": "markdown",
   "metadata": {
    "id": "Eu7ZjY2uuJUR"
   },
   "source": [
    "# 2 Optimización"
   ]
  },
  {
   "cell_type": "markdown",
   "metadata": {
    "id": "5UWRNPEVuJUV"
   },
   "source": [
    "## a) Problema a resolver"
   ]
  },
  {
   "cell_type": "markdown",
   "metadata": {
    "id": "SryyqDnNuJUY"
   },
   "source": [
    "[Respuesta]"
   ]
  },
  {
   "cell_type": "markdown",
   "metadata": {
    "id": "JrP9bhQquJUZ"
   },
   "source": [
    "## b) Representación de estados"
   ]
  },
  {
   "cell_type": "markdown",
   "metadata": {
    "id": "ZYTG3L23uJUc"
   },
   "source": [
    "[Respuesta]"
   ]
  },
  {
   "cell_type": "markdown",
   "metadata": {
    "id": "-zHqgXQ4uMak"
   },
   "source": [
    "## c) Función de aptitud"
   ]
  },
  {
   "cell_type": "markdown",
   "metadata": {
    "id": "KZzwKgjZuMax"
   },
   "source": [
    "[Respuesta]"
   ]
  },
  {
   "cell_type": "markdown",
   "metadata": {
    "id": "VBn1v9WJuJUd"
   },
   "source": [
    "## d) Código"
   ]
  },
  {
   "cell_type": "code",
   "execution_count": null,
   "metadata": {
    "id": "wBwcnnfyuJUe"
   },
   "outputs": [],
   "source": [
    "#TODO"
   ]
  },
  {
   "cell_type": "markdown",
   "metadata": {
    "id": "11PfIl82uJUf"
   },
   "source": [
    "## e) Caso de uso"
   ]
  },
  {
   "cell_type": "code",
   "execution_count": null,
   "metadata": {
    "id": "W2NtDDuAuJUh"
   },
   "outputs": [],
   "source": [
    "#TODO"
   ]
  }
 ],
 "metadata": {
  "colab": {
   "provenance": [
    {
     "file_id": "1yKKra0Wi-MQ1K8oXJQMzs60gWGxpXHrp",
     "timestamp": 1664357693498
    },
    {
     "file_id": "1bS-ZIm17bVFn12wCnlV2ErM6oMVhdNA5",
     "timestamp": 1624962220119
    }
   ]
  },
  "kernelspec": {
   "display_name": "base",
   "language": "python",
   "name": "python3"
  },
  "language_info": {
   "codemirror_mode": {
    "name": "ipython",
    "version": 3
   },
   "file_extension": ".py",
   "mimetype": "text/x-python",
   "name": "python",
   "nbconvert_exporter": "python",
   "pygments_lexer": "ipython3",
   "version": "3.9.20"
  }
 },
 "nbformat": 4,
 "nbformat_minor": 0
}
